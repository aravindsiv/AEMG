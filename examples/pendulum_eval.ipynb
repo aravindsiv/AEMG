{
 "cells": [
  {
   "cell_type": "code",
   "execution_count": null,
   "metadata": {},
   "outputs": [],
   "source": [
    "import os \n",
    "\n",
    "from AEMG.data_utils import TrajectoryDataset\n",
    "from AEMG.systems.utils import get_system\n",
    "\n",
    "import numpy as np\n",
    "import matplotlib.pyplot as plt\n",
    "%matplotlib inline\n",
    "\n",
    "import torch\n",
    "from AEMG.models import *\n",
    "\n",
    "from tqdm.notebook import tqdm"
   ]
  },
  {
   "cell_type": "code",
   "execution_count": null,
   "metadata": {},
   "outputs": [],
   "source": [
    "system = get_system(\"pendulum\")\n",
    "config_fname = \"config/pendulum_lqr_1K.txt\"\n",
    "\n",
    "with open(config_fname, 'r') as f:\n",
    "    config = eval(f.read())\n",
    "\n",
    "traj_dataset = TrajectoryDataset(config)"
   ]
  },
  {
   "cell_type": "code",
   "execution_count": null,
   "metadata": {},
   "outputs": [],
   "source": [
    "# Get the limits\n",
    "X_min = np.loadtxt(os.path.join(config['model_dir'], 'X_min.txt'), delimiter=',')\n",
    "X_max = np.loadtxt(os.path.join(config['model_dir'], 'X_max.txt'), delimiter=',')\n",
    "print(\"X_min: \", X_min)\n",
    "print(\"X_max: \", X_max)"
   ]
  },
  {
   "cell_type": "markdown",
   "metadata": {},
   "source": [
    "## Qualitative Evaluation\n",
    "\n",
    "Since we know that the system is 2D (and we have implemented the transformation), we can plot the collected trajectories in 2D."
   ]
  },
  {
   "cell_type": "code",
   "execution_count": null,
   "metadata": {},
   "outputs": [],
   "source": [
    "max_plotting = 1000\n",
    "max_plotting_prob = max_plotting / len(traj_dataset)"
   ]
  },
  {
   "cell_type": "code",
   "execution_count": null,
   "metadata": {},
   "outputs": [],
   "source": [
    "plt.figure(figsize=(8,8))\n",
    "for i in tqdm(range(len(traj_dataset))):\n",
    "    if np.random.rand() > max_plotting_prob: continue\n",
    "    tf_traj = []\n",
    "    for j in range(len(traj_dataset[i])):\n",
    "        tf_traj.append(system.inverse_transform(traj_dataset[i][j]))\n",
    "    tf_traj = np.array(tf_traj)\n",
    "    plt.plot(tf_traj[:,0], tf_traj[:,1], color='black')\n",
    "plt.show()"
   ]
  },
  {
   "cell_type": "code",
   "execution_count": null,
   "metadata": {},
   "outputs": [],
   "source": [
    "encoder  = Encoder(config['high_dims'], config['low_dims'])\n",
    "decoder  = Decoder(config['low_dims'], config['high_dims'])\n",
    "dynamics = LatentDynamics(config['low_dims'])\n",
    "\n",
    "encoder = torch.load(os.path.join(config['model_dir'], 'encoder.pt'))\n",
    "decoder = torch.load(os.path.join(config['model_dir'], 'decoder.pt'))\n",
    "dynamics = torch.load(os.path.join(config['model_dir'], 'dynamics.pt'))"
   ]
  },
  {
   "cell_type": "code",
   "execution_count": null,
   "metadata": {},
   "outputs": [],
   "source": [
    "true_bounds = system.get_true_bounds()\n",
    "resolution = 21\n",
    "traj_len = len(traj_dataset[0])\n",
    "\n",
    "ts = np.linspace(true_bounds[0,0], true_bounds[0,1], resolution)\n",
    "tdots = np.linspace(true_bounds[1,0], true_bounds[1,1], resolution)\n",
    "\n",
    "plt.figure(figsize=(8,8))\n",
    "plt.xlim(-1., 1.)\n",
    "plt.ylim(-1., 1.)\n",
    "plt.xlabel(\"z1\")\n",
    "plt.ylabel(\"z2\")\n",
    "for i in tqdm(range(resolution)):\n",
    "    for j in range(resolution):\n",
    "        x0 = np.array([ts[i], tdots[j]])\n",
    "        x0 = system.transform(x0)\n",
    "        x0 = (x0 - X_min) / (X_max - X_min)\n",
    "        x0 = torch.tensor(x0, dtype=torch.float32)\n",
    "        z0 = encoder(x0)\n",
    "        z_traj = [z0]\n",
    "        for k in range(traj_len):\n",
    "            z_traj.append(dynamics(z_traj[-1]))\n",
    "        z_traj = torch.stack(z_traj)\n",
    "        z_traj = z_traj.detach().numpy()\n",
    "        plt.plot(z_traj[:,0], z_traj[:,1], color='black')\n",
    "        plt.scatter(z_traj[0,0], z_traj[0,1], color='red')\n",
    "\n",
    "        # x_traj = []\n",
    "        # for k in range(traj_len):\n",
    "        #     x_traj.append(decoder(z_traj[k]))\n",
    "        # x_traj = torch.stack(x_traj)\n",
    "        # x_traj = x_traj.detach().numpy()\n",
    "        # x_traj = x_traj * (X_max - X_min) + X_min\n",
    "        # x_traj = np.array([system.inverse_transform(x_traj[k]) for k in range(traj_len)])\n",
    "        # plt.plot(x_traj[:,0], x_traj[:,1], color='black')"
   ]
  },
  {
   "cell_type": "code",
   "execution_count": null,
   "metadata": {},
   "outputs": [],
   "source": [
    "true_bounds = system.get_true_bounds()\n",
    "resolution = 21\n",
    "traj_len = len(traj_dataset[0])\n",
    "\n",
    "ts = np.linspace(true_bounds[0,0], true_bounds[0,1], resolution)\n",
    "tdots = np.linspace(true_bounds[1,0], true_bounds[1,1], resolution)\n",
    "\n",
    "plt.figure(figsize=(8,8))\n",
    "plt.xlim(-np.pi, np.pi)\n",
    "plt.ylim(-2*np.pi, 2*np.pi)\n",
    "for i in tqdm(range(resolution)):\n",
    "    for j in range(resolution):\n",
    "        x0 = np.array([ts[i], tdots[j]])\n",
    "        x0 = system.transform(x0)\n",
    "        x0 = (x0 - X_min) / (X_max - X_min)\n",
    "        x0 = torch.tensor(x0, dtype=torch.float32)\n",
    "        z0 = encoder(x0)\n",
    "        z_traj = [z0]\n",
    "        for k in range(traj_len):\n",
    "            z_traj.append(dynamics(z_traj[-1]))\n",
    "\n",
    "        x_traj = []\n",
    "        for k in range(traj_len):\n",
    "            x_traj.append(decoder(z_traj[k]))\n",
    "        x_traj = torch.stack(x_traj)\n",
    "        x_traj = x_traj.detach().numpy()\n",
    "        x_traj = x_traj * (X_max - X_min) + X_min\n",
    "        x_traj = np.array([system.inverse_transform(x_traj[k]) for k in range(traj_len)])\n",
    "        # Break up the trajectory into segments if the angle wraps around\n",
    "        # Plot each segment ignoring the wrap around\n",
    "        start = 0\n",
    "        for k in range(1, traj_len):\n",
    "            if abs(x_traj[k,0] - x_traj[k-1,0]) > np.pi:\n",
    "                plt.plot(x_traj[start:k,0], x_traj[start:k,1], color='black')\n",
    "                start = k\n",
    "        plt.plot(x_traj[start:,0], x_traj[start:,1], color='black')"
   ]
  },
  {
   "cell_type": "markdown",
   "metadata": {},
   "source": [
    "## Quantitative Evaluation"
   ]
  },
  {
   "cell_type": "code",
   "execution_count": null,
   "metadata": {},
   "outputs": [],
   "source": [
    "# Reconstruct all points in the ts and tdots grid\n",
    "# Plot the reconstructed points with a line connecting them\n",
    "\n",
    "plt.figure(figsize=(8,8))\n",
    "plt.xlim(-np.pi, np.pi)\n",
    "plt.ylim(-2*np.pi, 2*np.pi)\n",
    "\n",
    "for i in tqdm(range(resolution)):\n",
    "    for j in range(resolution):\n",
    "        x_orig = np.array([ts[i], tdots[j]])\n",
    "        x = system.transform(x_orig)\n",
    "        x = (x - X_min) / (X_max - X_min)\n",
    "        x = torch.tensor(x, dtype=torch.float32)\n",
    "        z = encoder(x)\n",
    "        x_recon = decoder(z)\n",
    "        x_recon = x_recon.detach().numpy()\n",
    "        x_recon = x_recon * (X_max - X_min) + X_min\n",
    "        x_recon = system.inverse_transform(x_recon)\n",
    "        # If the angle wraps around, plot them close to each other\n",
    "        if abs(x_recon[0] - x_orig[0]) > np.pi:\n",
    "            if x_recon[0] > 0:\n",
    "                x_recon[0] -= 2*np.pi\n",
    "            else:\n",
    "                x_recon[0] += 2*np.pi\n",
    "        plt.scatter(x_orig[0], x_orig[1], color='blue')\n",
    "        plt.scatter(x_recon[0], x_recon[1], color='red')\n",
    "        plt.plot([x_orig[0], x_recon[0]], [x_orig[1], x_recon[1]], color='black')"
   ]
  }
 ],
 "metadata": {
  "kernelspec": {
   "display_name": "Python 3.6.13 ('rl')",
   "language": "python",
   "name": "python3"
  },
  "language_info": {
   "codemirror_mode": {
    "name": "ipython",
    "version": 3
   },
   "file_extension": ".py",
   "mimetype": "text/x-python",
   "name": "python",
   "nbconvert_exporter": "python",
   "pygments_lexer": "ipython3",
   "version": "3.6.13"
  },
  "orig_nbformat": 4,
  "vscode": {
   "interpreter": {
    "hash": "7a46472cb0ecb73bc1710bd9fdb3f2a0ed9ce65e1d30c1116a30b435b8e8314a"
   }
  }
 },
 "nbformat": 4,
 "nbformat_minor": 2
}
