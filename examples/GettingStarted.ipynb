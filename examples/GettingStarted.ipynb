{
 "cells": [
  {
   "cell_type": "code",
   "execution_count": 24,
   "metadata": {},
   "outputs": [],
   "source": [
    "import numpy as np"
   ]
  },
  {
   "attachments": {},
   "cell_type": "markdown",
   "metadata": {},
   "source": [
    "N Dimensional Pendulum"
   ]
  },
  {
   "cell_type": "code",
   "execution_count": 25,
   "metadata": {},
   "outputs": [],
   "source": [
    "import AEMG.systems.ndpendulum as NdPendulum"
   ]
  },
  {
   "cell_type": "code",
   "execution_count": 26,
   "metadata": {},
   "outputs": [],
   "source": [
    "ndpendulum = NdPendulum.NdPendulum(dims=9)"
   ]
  },
  {
   "cell_type": "code",
   "execution_count": 27,
   "metadata": {},
   "outputs": [
    {
     "data": {
      "text/plain": [
       "array([3.26271593e-31, 1.30720469e-08, 2.68281110e-20, 3.37789932e-24,\n",
       "       1.35335283e-01, 2.77752215e-13, 9.35588077e-26, 3.74842662e-03,\n",
       "       7.69299605e-15])"
      ]
     },
     "execution_count": 27,
     "metadata": {},
     "output_type": "execute_result"
    }
   ],
   "source": [
    "ndpendulum.transform([1,1])"
   ]
  },
  {
   "cell_type": "markdown",
   "metadata": {},
   "source": [
    "4D Pendulum"
   ]
  },
  {
   "cell_type": "code",
   "execution_count": 28,
   "metadata": {},
   "outputs": [],
   "source": [
    "import AEMG.systems.pendulum as Pendulum"
   ]
  },
  {
   "cell_type": "markdown",
   "metadata": {},
   "source": []
  },
  {
   "cell_type": "code",
   "execution_count": 29,
   "metadata": {},
   "outputs": [],
   "source": [
    "pendulum = Pendulum.Pendulum()"
   ]
  },
  {
   "cell_type": "code",
   "execution_count": 30,
   "metadata": {},
   "outputs": [
    {
     "data": {
      "text/plain": [
       "array([ 0.42073549,  0.27015115,  0.27015115, -0.42073549])"
      ]
     },
     "execution_count": 30,
     "metadata": {},
     "output_type": "execute_result"
    }
   ],
   "source": [
    "pendulum.transform([1,1])"
   ]
  },
  {
   "cell_type": "code",
   "execution_count": 31,
   "metadata": {},
   "outputs": [
    {
     "data": {
      "text/plain": [
       "array([ 0.42073549,  0.27015115,  0.27015115, -0.42073549])"
      ]
     },
     "execution_count": 31,
     "metadata": {},
     "output_type": "execute_result"
    }
   ],
   "source": [
    "pendulum.transform(np.array([1,1]))"
   ]
  },
  {
   "attachments": {},
   "cell_type": "markdown",
   "metadata": {},
   "source": [
    "### From lower dimensional data to higher dimensional data"
   ]
  },
  {
   "attachments": {},
   "cell_type": "markdown",
   "metadata": {},
   "source": [
    "###### Save your data in PATH_TO/AEMG/examples/data"
   ]
  },
  {
   "attachments": {},
   "cell_type": "markdown",
   "metadata": {},
   "source": [
    "###### Pendulum"
   ]
  },
  {
   "cell_type": "code",
   "execution_count": 32,
   "metadata": {},
   "outputs": [],
   "source": [
    "import os"
   ]
  },
  {
   "cell_type": "code",
   "execution_count": 33,
   "metadata": {},
   "outputs": [],
   "source": [
    "dir_data_path = os.getcwd() + \"/data/pendulum_lqr\"\n",
    "if not os.path.exists(dir_data_path):\n",
    "    os.makedirs(dir_data_path)"
   ]
  },
  {
   "attachments": {},
   "cell_type": "markdown",
   "metadata": {},
   "source": [
    "###### save data in \"dir_data_path\" "
   ]
  },
  {
   "cell_type": "code",
   "execution_count": 41,
   "metadata": {},
   "outputs": [],
   "source": [
    "#### write your trajectories here\n",
    "\n",
    "number_trajectories = 10\n",
    "\n",
    "for counter in range(10):\n",
    "    traj=[]\n",
    "    \n",
    "    \n",
    "    state_temp = np.array([0,0])  # my trajectory data\n",
    "    traj.append(state_temp)\n",
    "    state_temp = np.array([0,1])  # my trajectory data\n",
    "    traj.append(state_temp)\n",
    "\n",
    "    traj = np.array(traj)\n",
    "    np.savetxt(f\"{dir_data_path}/{counter}.txt\",traj,delimiter=\",\")"
   ]
  },
  {
   "attachments": {},
   "cell_type": "markdown",
   "metadata": {},
   "source": [
    "###### read data in \"dir_data_path\" with transformation"
   ]
  },
  {
   "cell_type": "code",
   "execution_count": 51,
   "metadata": {},
   "outputs": [],
   "source": [
    "from AEMG.systems.utils import get_system\n",
    "\n",
    "step = 1  # step 1 for the time series (xt)\n",
    "Xt = []  # input\n",
    "Xnext = []  # output\n",
    "name_system = \"pendulum\" # desired system\n",
    "dim = 4  # dimension of the system\n",
    "system = get_system(name_system, dim)\n",
    "for f in os.listdir(dir_data_path):\n",
    "    data = np.loadtxt(os.path.join(dir_data_path, f), delimiter=',')\n",
    "    for i in range(data.shape[0] - step):\n",
    "        Xt.append(system.transform(data[i]))\n",
    "        Xnext.append(system.transform(data[i + step]))"
   ]
  },
  {
   "cell_type": "code",
   "execution_count": 52,
   "metadata": {},
   "outputs": [
    {
     "data": {
      "text/plain": [
       "[array([ 0. ,  0.5,  0. , -0. ]),\n",
       " array([ 0. ,  0.5,  0. , -0. ]),\n",
       " array([ 0. ,  0.5,  0. , -0. ]),\n",
       " array([ 0. ,  0.5,  0. , -0. ]),\n",
       " array([ 0. ,  0.5,  0. , -0. ]),\n",
       " array([ 0. ,  0.5,  0. , -0. ]),\n",
       " array([ 0. ,  0.5,  0. , -0. ]),\n",
       " array([ 0. ,  0.5,  0. , -0. ]),\n",
       " array([ 0. ,  0.5,  0. , -0. ]),\n",
       " array([ 0. ,  0.5,  0. , -0. ])]"
      ]
     },
     "execution_count": 52,
     "metadata": {},
     "output_type": "execute_result"
    }
   ],
   "source": [
    "Xt  # input \"x\" of \"y=f(x)\""
   ]
  },
  {
   "cell_type": "code",
   "execution_count": 53,
   "metadata": {},
   "outputs": [
    {
     "data": {
      "text/plain": [
       "[array([ 0. ,  0.5,  0.5, -0. ]),\n",
       " array([ 0. ,  0.5,  0.5, -0. ]),\n",
       " array([ 0. ,  0.5,  0.5, -0. ]),\n",
       " array([ 0. ,  0.5,  0.5, -0. ]),\n",
       " array([ 0. ,  0.5,  0.5, -0. ]),\n",
       " array([ 0. ,  0.5,  0.5, -0. ]),\n",
       " array([ 0. ,  0.5,  0.5, -0. ]),\n",
       " array([ 0. ,  0.5,  0.5, -0. ]),\n",
       " array([ 0. ,  0.5,  0.5, -0. ]),\n",
       " array([ 0. ,  0.5,  0.5, -0. ])]"
      ]
     },
     "execution_count": 53,
     "metadata": {},
     "output_type": "execute_result"
    }
   ],
   "source": [
    "Xnext # output \"y\" of \"y=f(x)\""
   ]
  }
 ],
 "metadata": {
  "kernelspec": {
   "display_name": "Python 3",
   "language": "python",
   "name": "python3"
  },
  "language_info": {
   "codemirror_mode": {
    "name": "ipython",
    "version": 3
   },
   "file_extension": ".py",
   "mimetype": "text/x-python",
   "name": "python",
   "nbconvert_exporter": "python",
   "pygments_lexer": "ipython3",
   "version": "3.10.11"
  },
  "orig_nbformat": 4
 },
 "nbformat": 4,
 "nbformat_minor": 2
}
